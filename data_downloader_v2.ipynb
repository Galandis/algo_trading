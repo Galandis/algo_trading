{
 "cells": [
  {
   "cell_type": "markdown",
   "metadata": {},
   "source": [
    "### Downloading every available asset through OANDA API"
   ]
  },
  {
   "cell_type": "markdown",
   "metadata": {},
   "source": [
    "#### Import required libraries"
   ]
  },
  {
   "cell_type": "code",
   "execution_count": 2,
   "metadata": {},
   "outputs": [],
   "source": [
    "import tpqoa\n",
    "import pandas as pd\n",
    "import PrepareData\n",
    "api = tpqoa.tpqoa(\"oanda.cfg\")"
   ]
  },
  {
   "cell_type": "markdown",
   "metadata": {},
   "source": [
    "Creating function to download data from OANDA broker."
   ]
  },
  {
   "cell_type": "code",
   "execution_count": 2,
   "metadata": {},
   "outputs": [],
   "source": [
    "# Function to download data from OANDA\n",
    "def get_data(ticker, tf, start, end):\n",
    "    '''Downloading data from OANDA API.\n",
    "    We can choose ticker, data range and granularity of data.\n",
    "    '''\n",
    "    data = api.get_history(instrument = ticker, start = start, end = end,\n",
    "                granularity = tf, price = \"B\")\n",
    "    data = data.drop('complete', axis=1)\n",
    "    return data"
   ]
  },
  {
   "cell_type": "markdown",
   "metadata": {},
   "source": [
    "### Getting all intruments from OANDA\n",
    "#### More instruments to trade"
   ]
  },
  {
   "cell_type": "code",
   "execution_count": 4,
   "metadata": {
    "scrolled": true
   },
   "outputs": [],
   "source": [
    "instruments = api.get_instruments()\n",
    "instruments_list = []"
   ]
  },
  {
   "cell_type": "code",
   "execution_count": 5,
   "metadata": {},
   "outputs": [
    {
     "data": {
      "text/plain": [
       "['AUD_CAD',\n",
       " 'AUD_CHF',\n",
       " 'AUD_HKD',\n",
       " 'AUD_JPY',\n",
       " 'AUD_NZD',\n",
       " 'AUD_SGD',\n",
       " 'AUD_USD',\n",
       " 'AU200_AUD',\n",
       " 'BCO_USD',\n",
       " 'DE10YB_EUR',\n",
       " 'CAD_CHF',\n",
       " 'CAD_HKD',\n",
       " 'CAD_JPY',\n",
       " 'CAD_SGD',\n",
       " 'CHF_HKD',\n",
       " 'CHF_JPY',\n",
       " 'CHF_ZAR',\n",
       " 'CN50_USD',\n",
       " 'XCU_USD',\n",
       " 'CORN_USD',\n",
       " 'EUR_AUD',\n",
       " 'EUR_CAD',\n",
       " 'EUR_CHF',\n",
       " 'EUR_CZK',\n",
       " 'EUR_DKK',\n",
       " 'EUR_GBP',\n",
       " 'EUR_HKD',\n",
       " 'EUR_HUF',\n",
       " 'EUR_JPY',\n",
       " 'EUR_NOK',\n",
       " 'EUR_NZD',\n",
       " 'EUR_PLN',\n",
       " 'EUR_SEK',\n",
       " 'EUR_SGD',\n",
       " 'EUR_TRY',\n",
       " 'EUR_USD',\n",
       " 'EUR_ZAR',\n",
       " 'EU50_EUR',\n",
       " 'FR40_EUR',\n",
       " 'GBP_AUD',\n",
       " 'GBP_CAD',\n",
       " 'GBP_CHF',\n",
       " 'GBP_HKD',\n",
       " 'GBP_JPY',\n",
       " 'GBP_NZD',\n",
       " 'GBP_PLN',\n",
       " 'GBP_SGD',\n",
       " 'GBP_USD',\n",
       " 'GBP_ZAR',\n",
       " 'DE30_EUR',\n",
       " 'XAU_USD',\n",
       " 'XAU_AUD',\n",
       " 'XAU_CAD',\n",
       " 'XAU_CHF',\n",
       " 'XAU_EUR',\n",
       " 'XAU_GBP',\n",
       " 'XAU_HKD',\n",
       " 'XAU_JPY',\n",
       " 'XAU_NZD',\n",
       " 'XAU_SGD',\n",
       " 'XAU_XAG',\n",
       " 'HKD_JPY',\n",
       " 'HK33_HKD',\n",
       " 'IN50_USD',\n",
       " 'JP225_USD',\n",
       " 'NZD_CAD',\n",
       " 'NZD_CHF',\n",
       " 'NZD_HKD',\n",
       " 'NZD_JPY',\n",
       " 'NZD_SGD',\n",
       " 'NZD_USD',\n",
       " 'NATGAS_USD',\n",
       " 'NL25_EUR',\n",
       " 'XPD_USD',\n",
       " 'XPT_USD',\n",
       " 'SGD_CHF',\n",
       " 'SGD_JPY',\n",
       " 'XAG_USD',\n",
       " 'XAG_AUD',\n",
       " 'XAG_CAD',\n",
       " 'XAG_CHF',\n",
       " 'XAG_EUR',\n",
       " 'XAG_GBP',\n",
       " 'XAG_HKD',\n",
       " 'XAG_JPY',\n",
       " 'XAG_NZD',\n",
       " 'XAG_SGD',\n",
       " 'SG30_SGD',\n",
       " 'SOYBN_USD',\n",
       " 'SUGAR_USD',\n",
       " 'TRY_JPY',\n",
       " 'TWIX_USD',\n",
       " 'UK100_GBP',\n",
       " 'UK10YB_GBP',\n",
       " 'USB10Y_USD',\n",
       " 'USB02Y_USD',\n",
       " 'USB05Y_USD',\n",
       " 'NAS100_USD',\n",
       " 'US2000_USD',\n",
       " 'SPX500_USD',\n",
       " 'USB30Y_USD',\n",
       " 'US30_USD',\n",
       " 'USD_CAD',\n",
       " 'USD_CHF',\n",
       " 'USD_CNH',\n",
       " 'USD_CZK',\n",
       " 'USD_DKK',\n",
       " 'USD_HKD',\n",
       " 'USD_HUF',\n",
       " 'USD_INR',\n",
       " 'USD_JPY',\n",
       " 'USD_MXN',\n",
       " 'USD_NOK',\n",
       " 'USD_PLN',\n",
       " 'USD_SEK',\n",
       " 'USD_SGD',\n",
       " 'USD_THB',\n",
       " 'USD_TRY',\n",
       " 'USD_ZAR',\n",
       " 'WTICO_USD',\n",
       " 'WHEAT_USD',\n",
       " 'ZAR_JPY']"
      ]
     },
     "execution_count": 5,
     "metadata": {},
     "output_type": "execute_result"
    }
   ],
   "source": [
    "for i in instruments:\n",
    "    instruments_list.append(i[1])\n",
    "instruments_list"
   ]
  },
  {
   "cell_type": "code",
   "execution_count": 24,
   "metadata": {},
   "outputs": [
    {
     "data": {
      "text/plain": [
       "122"
      ]
     },
     "execution_count": 24,
     "metadata": {},
     "output_type": "execute_result"
    }
   ],
   "source": [
    "len(instruments_list)"
   ]
  },
  {
   "cell_type": "markdown",
   "metadata": {},
   "source": [
    "### Creating function to save required data. For testing purposes we are interested in data since January 2020."
   ]
  },
  {
   "cell_type": "code",
   "execution_count": 6,
   "metadata": {},
   "outputs": [],
   "source": [
    "def save_data(ticker, tf):\n",
    "    # Run funciton to download data\n",
    "    complete_df = get_data(ticker, tf, \"2020-01-01\",\"2021-03-01\")\n",
    "    # Save each part of data on the drive\n",
    "    complete_df.to_csv('Data/{}_{}.csv'.format(ticker, tf),index=True)"
   ]
  },
  {
   "cell_type": "markdown",
   "metadata": {},
   "source": [
    "Iterate through all available instruments in OANDA and download data."
   ]
  },
  {
   "cell_type": "code",
   "execution_count": 12,
   "metadata": {
    "scrolled": true
   },
   "outputs": [
    {
     "name": "stdout",
     "output_type": "stream",
     "text": [
      "Part 1/16 is done\n",
      "Part 2/16 is done\n",
      "Part 3/16 is done\n",
      "Part 4/16 is done\n",
      "Part 5/16 is done\n",
      "Part 6/16 is done\n",
      "Part 7/16 is done\n",
      "Part 8/16 is done\n",
      "Part 9/16 is done\n",
      "Part 10/16 is done\n",
      "Part 11/16 is done\n",
      "Part 12/16 is done\n",
      "Part 13/16 is done\n",
      "Part 14/16 is done\n",
      "Part 15/16 is done\n",
      "Part 16/16 is done\n"
     ]
    }
   ],
   "source": [
    "# Define timeframe of the data, M1, M3, M5, M15, H1 etc.\n",
    "tf = \"M3\"\n",
    "i = 0\n",
    "j = len(instruments_list)\n",
    "for instrument in instruments_list:\n",
    "    i += 1\n",
    "    save_data(instrument,tf)\n",
    "    print(\"Part {}/{} is done\".format(i,j))"
   ]
  },
  {
   "cell_type": "markdown",
   "metadata": {},
   "source": [
    "## Use PrepareData module to add required columns into RAW data"
   ]
  },
  {
   "cell_type": "code",
   "execution_count": 29,
   "metadata": {},
   "outputs": [],
   "source": [
    "def save_prepared_data(ticker, timeframe):\n",
    "    data = PrepareData.prepare_data(ticker, timeframe)\n",
    "    data.to_csv('Data/{}_{}_full.csv'.format(ticker, timeframe),index=True)"
   ]
  },
  {
   "cell_type": "code",
   "execution_count": 32,
   "metadata": {},
   "outputs": [],
   "source": [
    "tf = \"M3\"\n",
    "i = 0\n",
    "j = len(instruments_list)"
   ]
  },
  {
   "cell_type": "code",
   "execution_count": 33,
   "metadata": {},
   "outputs": [
    {
     "name": "stdout",
     "output_type": "stream",
     "text": [
      "Part 1/122 is done\n",
      "Part 2/122 is done\n",
      "Part 3/122 is done\n",
      "Part 4/122 is done\n",
      "Part 5/122 is done\n",
      "Part 6/122 is done\n",
      "Part 7/122 is done\n",
      "Part 8/122 is done\n",
      "Part 9/122 is done\n",
      "Part 10/122 is done\n",
      "Part 11/122 is done\n",
      "Part 12/122 is done\n",
      "Part 13/122 is done\n",
      "Part 14/122 is done\n",
      "Part 15/122 is done\n",
      "Part 16/122 is done\n",
      "Part 17/122 is done\n",
      "Part 18/122 is done\n",
      "Part 19/122 is done\n",
      "Part 20/122 is done\n",
      "Part 21/122 is done\n",
      "Part 22/122 is done\n",
      "Part 23/122 is done\n",
      "Part 24/122 is done\n",
      "Part 25/122 is done\n",
      "Part 26/122 is done\n",
      "Part 27/122 is done\n",
      "Part 28/122 is done\n",
      "Part 29/122 is done\n",
      "Part 30/122 is done\n",
      "Part 31/122 is done\n",
      "Part 32/122 is done\n",
      "Part 33/122 is done\n",
      "Part 34/122 is done\n",
      "Part 35/122 is done\n",
      "Part 36/122 is done\n",
      "Part 37/122 is done\n",
      "Part 38/122 is done\n",
      "Part 39/122 is done\n",
      "Part 40/122 is done\n",
      "Part 41/122 is done\n",
      "Part 42/122 is done\n",
      "Part 43/122 is done\n",
      "Part 44/122 is done\n",
      "Part 45/122 is done\n",
      "Part 46/122 is done\n",
      "Part 47/122 is done\n",
      "Part 48/122 is done\n",
      "Part 49/122 is done\n",
      "Part 50/122 is done\n",
      "Part 51/122 is done\n",
      "Part 52/122 is done\n",
      "Part 53/122 is done\n",
      "Part 54/122 is done\n",
      "Part 55/122 is done\n",
      "Part 56/122 is done\n",
      "Part 57/122 is done\n",
      "Part 58/122 is done\n",
      "Part 59/122 is done\n",
      "Part 60/122 is done\n",
      "Part 61/122 is done\n",
      "Part 62/122 is done\n",
      "Part 63/122 is done\n",
      "Part 64/122 is done\n",
      "Part 65/122 is done\n",
      "Part 66/122 is done\n",
      "Part 67/122 is done\n",
      "Part 68/122 is done\n",
      "Part 69/122 is done\n",
      "Part 70/122 is done\n",
      "Part 71/122 is done\n",
      "Part 72/122 is done\n",
      "Part 73/122 is done\n",
      "Part 74/122 is done\n",
      "Part 75/122 is done\n",
      "Part 76/122 is done\n",
      "Part 77/122 is done\n",
      "Part 78/122 is done\n",
      "Part 79/122 is done\n",
      "Part 80/122 is done\n",
      "Part 81/122 is done\n",
      "Part 82/122 is done\n",
      "Part 83/122 is done\n",
      "Part 84/122 is done\n",
      "Part 85/122 is done\n",
      "Part 86/122 is done\n",
      "Part 87/122 is done\n",
      "Part 88/122 is done\n",
      "Part 89/122 is done\n",
      "Part 90/122 is done\n",
      "Part 91/122 is done\n",
      "Part 92/122 is done\n",
      "Part 93/122 is done\n",
      "Part 94/122 is done\n",
      "Part 95/122 is done\n",
      "Part 96/122 is done\n",
      "Part 97/122 is done\n",
      "Part 98/122 is done\n",
      "Part 99/122 is done\n",
      "Part 100/122 is done\n",
      "Part 101/122 is done\n",
      "Part 102/122 is done\n",
      "Part 103/122 is done\n",
      "Part 104/122 is done\n",
      "Part 105/122 is done\n",
      "Part 106/122 is done\n",
      "Part 107/122 is done\n",
      "Part 108/122 is done\n",
      "Part 109/122 is done\n",
      "Part 110/122 is done\n",
      "Part 111/122 is done\n",
      "Part 112/122 is done\n",
      "Part 113/122 is done\n",
      "Part 114/122 is done\n",
      "Part 115/122 is done\n",
      "Part 116/122 is done\n",
      "Part 117/122 is done\n",
      "Part 118/122 is done\n",
      "Part 119/122 is done\n",
      "Part 120/122 is done\n",
      "Part 121/122 is done\n",
      "Part 122/122 is done\n",
      "COMPLETED\n"
     ]
    }
   ],
   "source": [
    "for instrument in instruments_list:\n",
    "    save_prepared_data(instrument,tf)\n",
    "    i += 1\n",
    "    print(\"Part {}/{} is done\".format(i,j))\n",
    "print(\"COMPLETED\")"
   ]
  },
  {
   "cell_type": "markdown",
   "metadata": {},
   "source": [
    "### Additional code to be used if more data is required"
   ]
  },
  {
   "cell_type": "markdown",
   "metadata": {},
   "source": [
    "Creating dataframe holding dates for download. As there will be high number of calculations we divided the download into three months batches."
   ]
  },
  {
   "cell_type": "code",
   "execution_count": 13,
   "metadata": {},
   "outputs": [],
   "source": [
    "idx = pd.date_range(start=\"2019-01\",end=\"2021-01\", freq='3M')\n",
    "ts = pd.Series(range(len(idx)), index=idx)"
   ]
  },
  {
   "cell_type": "markdown",
   "metadata": {},
   "source": [
    "Iterating through dates and executing get_data function to download next 3m of bars. Next append the data into initial dataframe."
   ]
  },
  {
   "cell_type": "code",
   "execution_count": 14,
   "metadata": {},
   "outputs": [],
   "source": [
    "for i in range(1, len(ts)):\n",
    "    df = get_data(ts.index[i-1], ts.index[i])\n",
    "    complete_df = complete_df.append(df)"
   ]
  },
  {
   "cell_type": "code",
   "execution_count": 15,
   "metadata": {},
   "outputs": [],
   "source": [
    "complete_df = complete_df[~complete_df.index.duplicated(keep='first')]\n",
    "complete_df"
   ]
  },
  {
   "cell_type": "markdown",
   "metadata": {},
   "source": [
    "Saving completed dataframe into csv file to be used later in calculations."
   ]
  },
  {
   "cell_type": "code",
   "execution_count": 17,
   "metadata": {},
   "outputs": [],
   "source": [
    "complete_df.to_csv('{}_{}.csv'.format(ticker, tf),index=True)"
   ]
  },
  {
   "cell_type": "markdown",
   "metadata": {},
   "source": [
    "### Function to calculate average spread for every asset traded through Oanda"
   ]
  },
  {
   "cell_type": "code",
   "execution_count": 42,
   "metadata": {},
   "outputs": [],
   "source": [
    "def check_spread(ticker):\n",
    "    '''Downloading data from OANDA API.\n",
    "    We can choose ticker, data range and granularity of data.\n",
    "    '''\n",
    "    bid = api.get_history(instrument = ticker, start = \"2021-03-01\", end = \"2021-03-02\",\n",
    "                granularity = \"M5\", price = \"B\")\n",
    "    bid = bid.drop(['complete','o','h','l','volume'], axis=1)\n",
    "    \n",
    "    ask = api.get_history(instrument = ticker, start = \"2021-03-01\", end = \"2021-03-02\",\n",
    "                granularity = \"M5\", price = \"A\")\n",
    "    ask = ask.drop(['complete','o','h','l','volume'], axis=1)\n",
    "    \n",
    "    combined = ask - bid\n",
    "    \n",
    "    spread = round(sum(combined['c'])/len(combined),5)\n",
    "    return spread"
   ]
  },
  {
   "cell_type": "code",
   "execution_count": 83,
   "metadata": {},
   "outputs": [],
   "source": [
    "spread_dict = {'ticker':'spread'}"
   ]
  },
  {
   "cell_type": "code",
   "execution_count": 86,
   "metadata": {},
   "outputs": [
    {
     "name": "stdout",
     "output_type": "stream",
     "text": [
      "Done part 1 from 122\n",
      "Done part 2 from 122\n",
      "Done part 3 from 122\n",
      "Done part 4 from 122\n",
      "Done part 5 from 122\n",
      "Done part 6 from 122\n",
      "Done part 7 from 122\n",
      "Done part 8 from 122\n",
      "Done part 9 from 122\n",
      "Done part 10 from 122\n",
      "Done part 11 from 122\n",
      "Done part 12 from 122\n",
      "Done part 13 from 122\n",
      "Done part 14 from 122\n",
      "Done part 15 from 122\n",
      "Done part 16 from 122\n",
      "Done part 17 from 122\n",
      "Done part 18 from 122\n",
      "Done part 19 from 122\n",
      "Done part 20 from 122\n",
      "Done part 21 from 122\n",
      "Done part 22 from 122\n",
      "Done part 23 from 122\n",
      "Done part 24 from 122\n",
      "Done part 25 from 122\n",
      "Done part 26 from 122\n",
      "Done part 27 from 122\n",
      "Done part 28 from 122\n",
      "Done part 29 from 122\n",
      "Done part 30 from 122\n",
      "Done part 31 from 122\n",
      "Done part 32 from 122\n",
      "Done part 33 from 122\n",
      "Done part 34 from 122\n",
      "Done part 35 from 122\n",
      "Done part 36 from 122\n",
      "Done part 37 from 122\n",
      "Done part 38 from 122\n",
      "Done part 39 from 122\n",
      "Done part 40 from 122\n",
      "Done part 41 from 122\n",
      "Done part 42 from 122\n",
      "Done part 43 from 122\n",
      "Done part 44 from 122\n",
      "Done part 45 from 122\n",
      "Done part 46 from 122\n",
      "Done part 47 from 122\n",
      "Done part 48 from 122\n",
      "Done part 49 from 122\n",
      "Done part 50 from 122\n",
      "Done part 51 from 122\n",
      "Done part 52 from 122\n",
      "Done part 53 from 122\n",
      "Done part 54 from 122\n",
      "Done part 55 from 122\n",
      "Done part 56 from 122\n",
      "Done part 57 from 122\n",
      "Done part 58 from 122\n",
      "Done part 59 from 122\n",
      "Done part 60 from 122\n",
      "Done part 61 from 122\n",
      "Done part 62 from 122\n",
      "Done part 63 from 122\n",
      "Done part 64 from 122\n",
      "Done part 65 from 122\n",
      "Done part 66 from 122\n",
      "Done part 67 from 122\n",
      "Done part 68 from 122\n",
      "Done part 69 from 122\n",
      "Done part 70 from 122\n",
      "Done part 71 from 122\n",
      "Done part 72 from 122\n",
      "Done part 73 from 122\n",
      "Done part 74 from 122\n",
      "Done part 75 from 122\n",
      "Done part 76 from 122\n",
      "Done part 77 from 122\n",
      "Done part 78 from 122\n",
      "Done part 79 from 122\n",
      "Done part 80 from 122\n",
      "Done part 81 from 122\n",
      "Done part 82 from 122\n",
      "Done part 83 from 122\n",
      "Done part 84 from 122\n",
      "Done part 85 from 122\n",
      "Done part 86 from 122\n",
      "Done part 87 from 122\n",
      "Done part 88 from 122\n",
      "Done part 89 from 122\n",
      "Done part 90 from 122\n",
      "Done part 91 from 122\n",
      "Done part 92 from 122\n",
      "Done part 93 from 122\n",
      "Done part 94 from 122\n",
      "Done part 95 from 122\n",
      "Done part 96 from 122\n",
      "Done part 97 from 122\n",
      "Done part 98 from 122\n",
      "Done part 99 from 122\n",
      "Done part 100 from 122\n",
      "Done part 101 from 122\n",
      "Done part 102 from 122\n",
      "Done part 103 from 122\n",
      "Done part 104 from 122\n",
      "Done part 105 from 122\n",
      "Done part 106 from 122\n",
      "Done part 107 from 122\n",
      "Done part 108 from 122\n",
      "Done part 109 from 122\n",
      "Done part 110 from 122\n",
      "Done part 111 from 122\n",
      "Done part 112 from 122\n",
      "Done part 113 from 122\n",
      "Done part 114 from 122\n",
      "Done part 115 from 122\n",
      "Done part 116 from 122\n",
      "Done part 117 from 122\n",
      "Done part 118 from 122\n",
      "Done part 119 from 122\n",
      "Done part 120 from 122\n",
      "Done part 121 from 122\n",
      "Done part 122 from 122\n"
     ]
    }
   ],
   "source": [
    "i = 1\n",
    "j = len(instruments_list)\n",
    "for instrument in instruments_list:\n",
    "    spread = check_spread(instrument)\n",
    "    spread_dict[instrument] = spread\n",
    "    print(\"Done part {} from {}\".format(i,j))\n",
    "    i += 1"
   ]
  },
  {
   "cell_type": "code",
   "execution_count": 97,
   "metadata": {
    "scrolled": true
   },
   "outputs": [
    {
     "data": {
      "text/plain": [
       "{'ticker': 'spread',\n",
       " 'AUD_CAD': 0.00023,\n",
       " 'AUD_CHF': 0.00027,\n",
       " 'AUD_HKD': 0.00143,\n",
       " 'AUD_JPY': 0.01743,\n",
       " 'AUD_NZD': 0.00029,\n",
       " 'AUD_SGD': 0.00038,\n",
       " 'AUD_USD': 0.00014,\n",
       " 'AU200_AUD': 2.62636,\n",
       " 'BCO_USD': 0.03187,\n",
       " 'DE10YB_EUR': 0.02386,\n",
       " 'CAD_CHF': 0.00024,\n",
       " 'CAD_HKD': 0.00118,\n",
       " 'CAD_JPY': 0.01828,\n",
       " 'CAD_SGD': 0.00034,\n",
       " 'CHF_HKD': 0.00209,\n",
       " 'CHF_JPY': 0.02549,\n",
       " 'CHF_ZAR': 0.01671,\n",
       " 'CN50_USD': 9.61039,\n",
       " 'XCU_USD': 0.00175,\n",
       " 'CORN_USD': 0.01012,\n",
       " 'EUR_AUD': 0.00025,\n",
       " 'EUR_CAD': 0.00024,\n",
       " 'EUR_CHF': 0.00018,\n",
       " 'EUR_CZK': 0.0244,\n",
       " 'EUR_DKK': 0.00118,\n",
       " 'EUR_GBP': 0.00019,\n",
       " 'EUR_HKD': 0.00154,\n",
       " 'EUR_HUF': 0.38818,\n",
       " 'EUR_JPY': 0.02103,\n",
       " 'EUR_NOK': 0.00599,\n",
       " 'EUR_NZD': 0.00039,\n",
       " 'EUR_PLN': 0.00382,\n",
       " 'EUR_SEK': 0.00556,\n",
       " 'EUR_SGD': 0.00047,\n",
       " 'EUR_TRY': 0.0198,\n",
       " 'EUR_USD': 0.00014,\n",
       " 'EUR_ZAR': 0.0169,\n",
       " 'EU50_EUR': 1.19831,\n",
       " 'FR40_EUR': 1.0244,\n",
       " 'GBP_AUD': 0.00033,\n",
       " 'GBP_CAD': 0.00032,\n",
       " 'GBP_CHF': 0.00026,\n",
       " 'GBP_HKD': 0.00195,\n",
       " 'GBP_JPY': 0.02653,\n",
       " 'GBP_NZD': 0.00048,\n",
       " 'GBP_PLN': 0.00564,\n",
       " 'GBP_SGD': 0.00057,\n",
       " 'GBP_USD': 0.00017,\n",
       " 'GBP_ZAR': 0.01989,\n",
       " 'DE30_EUR': 2.25221,\n",
       " 'XAU_USD': 0.43486,\n",
       " 'XAU_AUD': 0.93187,\n",
       " 'XAU_CAD': 0.83747,\n",
       " 'XAU_CHF': 0.64849,\n",
       " 'XAU_EUR': 0.50904,\n",
       " 'XAU_GBP': 0.45239,\n",
       " 'XAU_HKD': 3.95293,\n",
       " 'XAU_JPY': 68.73455,\n",
       " 'XAU_NZD': 1.10764,\n",
       " 'XAU_SGD': 0.91289,\n",
       " 'XAU_XAG': 0.08026,\n",
       " 'HKD_JPY': 0.00254,\n",
       " 'HK33_HKD': 5.03802,\n",
       " 'IN50_USD': 3.01472,\n",
       " 'JP225_USD': 7.74453,\n",
       " 'NZD_CAD': 0.00029,\n",
       " 'NZD_CHF': 0.00031,\n",
       " 'NZD_HKD': 0.00177,\n",
       " 'NZD_JPY': 0.023,\n",
       " 'NZD_SGD': 0.00043,\n",
       " 'NZD_USD': 0.00019,\n",
       " 'NATGAS_USD': 0.00709,\n",
       " 'NL25_EUR': 0.22661,\n",
       " 'XPD_USD': 13.25829,\n",
       " 'XPT_USD': 3.16915,\n",
       " 'SGD_CHF': 0.00026,\n",
       " 'SGD_JPY': 0.0253,\n",
       " 'XAG_USD': 0.02335,\n",
       " 'XAG_AUD': 0.03571,\n",
       " 'XAG_CAD': 0.03391,\n",
       " 'XAG_CHF': 0.02509,\n",
       " 'XAG_EUR': 0.02158,\n",
       " 'XAG_GBP': 0.01884,\n",
       " 'XAG_HKD': 0.18942,\n",
       " 'XAG_JPY': 2.87091,\n",
       " 'XAG_NZD': 0.03986,\n",
       " 'XAG_SGD': 0.03609,\n",
       " 'SG30_SGD': 0.25489,\n",
       " 'SOYBN_USD': 0.01813,\n",
       " 'SUGAR_USD': 0.00027,\n",
       " 'TRY_JPY': 0.03546,\n",
       " 'TWIX_USD': 1.18085,\n",
       " 'UK100_GBP': 1.31167,\n",
       " 'UK10YB_GBP': 0.031,\n",
       " 'USB10Y_USD': 0.026,\n",
       " 'USB02Y_USD': 0.01412,\n",
       " 'USB05Y_USD': 0.01815,\n",
       " 'NAS100_USD': 1.47737,\n",
       " 'US2000_USD': 0.37792,\n",
       " 'SPX500_USD': 0.38066,\n",
       " 'USB30Y_USD': 0.0429,\n",
       " 'US30_USD': 1.87774,\n",
       " 'USD_CAD': 0.00018,\n",
       " 'USD_CHF': 0.00017,\n",
       " 'USD_CNH': 0.00115,\n",
       " 'USD_CZK': 0.01984,\n",
       " 'USD_DKK': 0.00141,\n",
       " 'USD_HKD': 0.00039,\n",
       " 'USD_HUF': 0.37365,\n",
       " 'USD_INR': 0.08753,\n",
       " 'USD_JPY': 0.01427,\n",
       " 'USD_MXN': 0.00786,\n",
       " 'USD_NOK': 0.00587,\n",
       " 'USD_PLN': 0.00306,\n",
       " 'USD_SEK': 0.0048,\n",
       " 'USD_SGD': 0.00023,\n",
       " 'USD_THB': 0.07633,\n",
       " 'USD_TRY': 0.01468,\n",
       " 'USD_ZAR': 0.01221,\n",
       " 'WTICO_USD': 0.03004,\n",
       " 'WHEAT_USD': 0.01065,\n",
       " 'ZAR_JPY': 0.01188}"
      ]
     },
     "execution_count": 97,
     "metadata": {},
     "output_type": "execute_result"
    }
   ],
   "source": [
    "spread_dict"
   ]
  },
  {
   "cell_type": "markdown",
   "metadata": {},
   "source": [
    "Saving created dictionary into folder with other data"
   ]
  },
  {
   "cell_type": "code",
   "execution_count": 100,
   "metadata": {},
   "outputs": [],
   "source": [
    "import json\n",
    "\n",
    "with open('Data\\spreads.json', 'w') as fp:\n",
    "    json.dump(spread_dict, fp)"
   ]
  }
 ],
 "metadata": {
  "kernelspec": {
   "display_name": "Python 3",
   "language": "python",
   "name": "python3"
  },
  "language_info": {
   "codemirror_mode": {
    "name": "ipython",
    "version": 3
   },
   "file_extension": ".py",
   "mimetype": "text/x-python",
   "name": "python",
   "nbconvert_exporter": "python",
   "pygments_lexer": "ipython3",
   "version": "3.7.4"
  }
 },
 "nbformat": 4,
 "nbformat_minor": 2
}
